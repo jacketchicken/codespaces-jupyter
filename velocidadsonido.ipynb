{
 "cells": [
  {
   "cell_type": "code",
   "execution_count": 3,
   "metadata": {},
   "outputs": [
    {
     "name": "stdout",
     "output_type": "stream",
     "text": [
      "tiempo es igual a 0.09912536443148688\n"
     ]
    }
   ],
   "source": [
    "Distancia= float(input())\n",
    "Velocidad_del_sonido = 343\n",
    "tiempo = Distancia / Velocidad_del_sonido\n",
    "print( \"tiempo es igual a\", tiempo)\n"
   ]
  }
 ],
 "metadata": {
  "kernelspec": {
   "display_name": "Python 3",
   "language": "python",
   "name": "python3"
  },
  "language_info": {
   "codemirror_mode": {
    "name": "ipython",
    "version": 3
   },
   "file_extension": ".py",
   "mimetype": "text/x-python",
   "name": "python",
   "nbconvert_exporter": "python",
   "pygments_lexer": "ipython3",
   "version": "3.10.13"
  }
 },
 "nbformat": 4,
 "nbformat_minor": 2
}
