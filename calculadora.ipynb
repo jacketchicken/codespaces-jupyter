{
 "cells": [
  {
   "cell_type": "code",
   "execution_count": 17,
   "metadata": {},
   "outputs": [
    {
     "name": "stdout",
     "output_type": "stream",
     "text": [
      "0.875\n"
     ]
    }
   ],
   "source": [
    "Numero_1 = float(input())\n",
    "Numero_2 = float(input())\n",
    "operacion = input()\n",
    "if operacion == \"+\":\n",
    "   print(Numero_1+Numero_2)\n",
    "if operacion == \"*\":\n",
    "   print(Numero_1*Numero_2)\n",
    "if operacion == \"-\":\n",
    "   print(Numero_1-Numero_2)\n",
    "if operacion == \"/\":\n",
    "   print(Numero_1/Numero_2)"
   ]
  }
 ],
 "metadata": {
  "kernelspec": {
   "display_name": "Python 3",
   "language": "python",
   "name": "python3"
  },
  "language_info": {
   "codemirror_mode": {
    "name": "ipython",
    "version": 3
   },
   "file_extension": ".py",
   "mimetype": "text/x-python",
   "name": "python",
   "nbconvert_exporter": "python",
   "pygments_lexer": "ipython3",
   "version": "3.10.13"
  }
 },
 "nbformat": 4,
 "nbformat_minor": 2
}
