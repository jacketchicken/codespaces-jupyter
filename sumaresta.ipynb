{
 "cells": [
  {
   "cell_type": "code",
   "execution_count": 1,
   "metadata": {},
   "outputs": [
    {
     "name": "stdout",
     "output_type": "stream",
     "text": [
      "35.0\n",
      "35.0\n"
     ]
    }
   ],
   "source": [
    "Numero_1 = float(input())\n",
    "Numero_2 = float(input())\n",
    "print(Numero_1+Numero_2)\n",
    "if Numero_1 >= Numero_2:\n",
    "    print(Numero_1 + Numero_2)\n",
    "else:\n",
    "    print(Numero_1 * Numero_2)\n",
    "    \n",
    "    "
   ]
  }
 ],
 "metadata": {
  "kernelspec": {
   "display_name": "Python 3",
   "language": "python",
   "name": "python3"
  },
  "language_info": {
   "codemirror_mode": {
    "name": "ipython",
    "version": 3
   },
   "file_extension": ".py",
   "mimetype": "text/x-python",
   "name": "python",
   "nbconvert_exporter": "python",
   "pygments_lexer": "ipython3",
   "version": "3.10.13"
  }
 },
 "nbformat": 4,
 "nbformat_minor": 2
}
